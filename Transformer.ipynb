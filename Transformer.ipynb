{
 "cells": [
  {
   "cell_type": "markdown",
   "metadata": {},
   "source": [
    "#### Transformer\n",
    "\n",
    "Data source:\n",
    "\n",
    "https://data.world/opensnippets/cnn-news-dataset\n",
    "\n",
    "\n",
    "Help and resources:\n",
    "\n",
    "https://huggingface.co/docs/transformers/en/model_doc/bart\n",
    "\n",
    "https://towardsdatascience.com/how-to-evaluate-text-generation-models-metrics-for-automatic-evaluation-of-nlp-models-e1c251b04ec1\n",
    "\n",
    "https://huggingface.co/docs/transformers/notebooks\n",
    "\n",
    "https://towardsdatascience.com/how-to-evaluate-text-generation-models-metrics-for-automatic-evaluation-of-nlp-models-e1c251b04ec1\n",
    "\n",
    "\n"
   ]
  },
  {
   "cell_type": "code",
   "execution_count": 1,
   "metadata": {},
   "outputs": [
    {
     "data": {
      "text/plain": [
       "True"
      ]
     },
     "execution_count": 1,
     "metadata": {},
     "output_type": "execute_result"
    }
   ],
   "source": [
    "from sklearn.model_selection import train_test_split\n",
    "import json\n",
    "import pandas as pd\n",
    "from fastai.text.all import *\n",
    "from transformers import BartTokenizer, BartForConditionalGeneration, BartConfig, Seq2SeqTrainingArguments, Seq2SeqTrainer\n",
    "import datasets\n",
    "from datasets import Dataset, DatasetDict\n",
    "import torch\n",
    "import nltk\n",
    "nltk.download('punkt', quiet=True)\n"
   ]
  },
  {
   "cell_type": "code",
   "execution_count": 2,
   "metadata": {},
   "outputs": [
    {
     "name": "stdout",
     "output_type": "stream",
     "text": [
      "Index(['title', 'url', 'published_at', 'last_modified_at', 'author',\n",
      "       'short_description', 'header_image', 'raw_content', 'content',\n",
      "       'crawled_at', '_id', 'source'],\n",
      "      dtype='object')\n"
     ]
    }
   ],
   "source": [
    "# Load the dataset\n",
    "data = \"cnn_data.json\"\n",
    "df = pd.read_json(data)\n",
    "\n",
    "# Check the keys in the dataset\n",
    "print(df.keys())"
   ]
  },
  {
   "cell_type": "code",
   "execution_count": 3,
   "metadata": {},
   "outputs": [],
   "source": [
    "# Selecting only the 'content' and 'short_description' columns\n",
    "df = df[['content', 'short_description']]\n",
    "\n",
    "# Preprocessing: Remove any rows with missing values\n",
    "df.dropna(inplace=True)"
   ]
  },
  {
   "cell_type": "code",
   "execution_count": 4,
   "metadata": {},
   "outputs": [
    {
     "data": {
      "text/html": [
       "<div>\n",
       "<style scoped>\n",
       "    .dataframe tbody tr th:only-of-type {\n",
       "        vertical-align: middle;\n",
       "    }\n",
       "\n",
       "    .dataframe tbody tr th {\n",
       "        vertical-align: top;\n",
       "    }\n",
       "\n",
       "    .dataframe thead th {\n",
       "        text-align: right;\n",
       "    }\n",
       "</style>\n",
       "<table border=\"1\" class=\"dataframe\">\n",
       "  <thead>\n",
       "    <tr style=\"text-align: right;\">\n",
       "      <th></th>\n",
       "      <th>content</th>\n",
       "      <th>short_description</th>\n",
       "    </tr>\n",
       "  </thead>\n",
       "  <tbody>\n",
       "    <tr>\n",
       "      <th>0</th>\n",
       "      <td>Fleetwood and Hoey lead big names in Dunhill LinksBy Updated 2019 GMT (0419 HKT) September 30, 2011 England's Tommy Fleetwood is all smiles after completing a nine-under 63 at KingsbarnsStory highlightsTommy Fleetwood and Michael Hoey share lead at  Alfred Dunhill Links Championship in Scotland They are on 12-under 132 with England's Fleetwood carding a second round 63 at Kingsbarns  2010 British Open champion Louis Oosthuizen leads chasers on 11-under  Martin Kaymer,  Lee Westwood and Rory McIlroy all within five shots of the lead after two roundsUnheralded pair Tommy Fleetwood of England...</td>\n",
       "      <td>Unheralded pair Tommy Fleetwood of England and Northern Ireland's Michael Hoey share the lead at the halfway stage of the Alfred Dunhill Links Championship.</td>\n",
       "    </tr>\n",
       "    <tr>\n",
       "      <th>1</th>\n",
       "      <td>Senna to replace Heidfeld in BelgiumBy Updated 1649 GMT (0049 HKT) August 26, 2011 Bruno Senna is the nephew of Ayrton Senna, the three-time world champion who died in 1994.Story highlightsBruno Senna will replace Nick Heidfeld for Renault at the Belgian Grand PrixBruno is the nephew of late Formula legend Ayrton SennaThe Brazilian has not raced since the final grand prix of the 2010 seasonBrazilian driver Bruno Senna will replace Nick Heidfeld for Renault at this weekend's Formula One grand prix in Belgium.Senna, the nephew of three-time world champion Ayrton Senna, joined the British-bas...</td>\n",
       "      <td>Brazilian driver Bruno Senna will replace Nick Heidfeld for Renault at this weekend's Formula One grand prix in Belgium.</td>\n",
       "    </tr>\n",
       "    <tr>\n",
       "      <th>2</th>\n",
       "      <td>Zvonareva beats Kvitova to reach Tokyo finalBy Updated 2022 GMT (0422 HKT) September 30, 2011 Vera Zvonareva powers a shot during her straight sets win over Petra Kvitova in TokyoStory highlightsVera Zvonareva sees off Wimbledon champion Petra Kvitova in straight sets in Tokyo semis Russian comes from 5-1 down in opening set to win it on a tiebreaker Maria Sharapova pulls out of China Open with ankle injuryAndy Murray into the semifinals of  ATP tournament in ThailandRussian Vera Zvonareva came from 5-1 down in the opening set to beat Wimbledon champion Petra Kvitova 7-6 6-0 in the semifin...</td>\n",
       "      <td>Russian Vera Zvonareva came from 5-1 down in the opening set to beat Wimbledon champion Petra Kvitova 7-6 6-0 in the semifinals of the WTA  tournament in Tokyo.</td>\n",
       "    </tr>\n",
       "    <tr>\n",
       "      <th>3</th>\n",
       "      <td>Country profile: MacedoniaBy Catriona Davies and Eoghan Macguire for CNNUpdated 0434 GMT (1234 HKT) September 30, 2011  Photos: Ancient ruins – The famous mosaics at the ancient Roman archeological site of Stobi, in southeast Macedonia. One of the country's many ancient relics.Hide Caption 1 of 8 Photos: Lake Ohrid – Two people fish on a boat on Macedonia's Lake Ohrid, one of the deepest and oldest freshwater lakes in Europe.Hide Caption 2 of 8 Photos: Muslim community – Muslim craftsmen perform their prayers in an alley in the Old Bazaar in Skopje. Accordinng to the CIA World Factbook a t...</td>\n",
       "      <td>Macedonia is a small landlocked country bordering Albania, Bulgaria, Greece, Kosovo and Serbia with aspirations of joining the European Union.</td>\n",
       "    </tr>\n",
       "    <tr>\n",
       "      <th>4</th>\n",
       "      <td>Manchester City ban talk of TevezBy Updated 1655 GMT (0055 HKT) September 30, 2011 Carlos Tevez was Manchester City's top goalscorer last year as they won the FA Cup and reached the Champions League.Story highlightsManchester City ban questions on Carlos Tevez  at Friday press conference  Tevez is suspended after allegedly refusing to come on as substitute against Bayern MunichBayern Munich won Champions League group match 2-0 City turn down approach from West Ham to take Tevez on loanManchester City banned journalists from asking manager Roberto Mancini about striker Carlos Tevez  Friday,...</td>\n",
       "      <td>Manchester City banned journalists from asking manager Roberto Mancini about striker Carlos Tevez  Friday, as the fallout from the Argentine's apparent refusal to come on as a substitute continued.</td>\n",
       "    </tr>\n",
       "  </tbody>\n",
       "</table>\n",
       "</div>"
      ],
      "text/plain": [
       "                                                                                                                                                                                                                                                                                                                                                                                                                                                                                                                                                                                                                   content  \\\n",
       "0  Fleetwood and Hoey lead big names in Dunhill LinksBy Updated 2019 GMT (0419 HKT) September 30, 2011 England's Tommy Fleetwood is all smiles after completing a nine-under 63 at KingsbarnsStory highlightsTommy Fleetwood and Michael Hoey share lead at  Alfred Dunhill Links Championship in Scotland They are on 12-under 132 with England's Fleetwood carding a second round 63 at Kingsbarns  2010 British Open champion Louis Oosthuizen leads chasers on 11-under  Martin Kaymer,  Lee Westwood and Rory McIlroy all within five shots of the lead after two roundsUnheralded pair Tommy Fleetwood of England...   \n",
       "1  Senna to replace Heidfeld in BelgiumBy Updated 1649 GMT (0049 HKT) August 26, 2011 Bruno Senna is the nephew of Ayrton Senna, the three-time world champion who died in 1994.Story highlightsBruno Senna will replace Nick Heidfeld for Renault at the Belgian Grand PrixBruno is the nephew of late Formula legend Ayrton SennaThe Brazilian has not raced since the final grand prix of the 2010 seasonBrazilian driver Bruno Senna will replace Nick Heidfeld for Renault at this weekend's Formula One grand prix in Belgium.Senna, the nephew of three-time world champion Ayrton Senna, joined the British-bas...   \n",
       "2  Zvonareva beats Kvitova to reach Tokyo finalBy Updated 2022 GMT (0422 HKT) September 30, 2011 Vera Zvonareva powers a shot during her straight sets win over Petra Kvitova in TokyoStory highlightsVera Zvonareva sees off Wimbledon champion Petra Kvitova in straight sets in Tokyo semis Russian comes from 5-1 down in opening set to win it on a tiebreaker Maria Sharapova pulls out of China Open with ankle injuryAndy Murray into the semifinals of  ATP tournament in ThailandRussian Vera Zvonareva came from 5-1 down in the opening set to beat Wimbledon champion Petra Kvitova 7-6 6-0 in the semifin...   \n",
       "3  Country profile: MacedoniaBy Catriona Davies and Eoghan Macguire for CNNUpdated 0434 GMT (1234 HKT) September 30, 2011  Photos: Ancient ruins – The famous mosaics at the ancient Roman archeological site of Stobi, in southeast Macedonia. One of the country's many ancient relics.Hide Caption 1 of 8 Photos: Lake Ohrid – Two people fish on a boat on Macedonia's Lake Ohrid, one of the deepest and oldest freshwater lakes in Europe.Hide Caption 2 of 8 Photos: Muslim community – Muslim craftsmen perform their prayers in an alley in the Old Bazaar in Skopje. Accordinng to the CIA World Factbook a t...   \n",
       "4  Manchester City ban talk of TevezBy Updated 1655 GMT (0055 HKT) September 30, 2011 Carlos Tevez was Manchester City's top goalscorer last year as they won the FA Cup and reached the Champions League.Story highlightsManchester City ban questions on Carlos Tevez  at Friday press conference  Tevez is suspended after allegedly refusing to come on as substitute against Bayern MunichBayern Munich won Champions League group match 2-0 City turn down approach from West Ham to take Tevez on loanManchester City banned journalists from asking manager Roberto Mancini about striker Carlos Tevez  Friday,...   \n",
       "\n",
       "                                                                                                                                                                                       short_description  \n",
       "0                                           Unheralded pair Tommy Fleetwood of England and Northern Ireland's Michael Hoey share the lead at the halfway stage of the Alfred Dunhill Links Championship.  \n",
       "1                                                                               Brazilian driver Bruno Senna will replace Nick Heidfeld for Renault at this weekend's Formula One grand prix in Belgium.  \n",
       "2                                      Russian Vera Zvonareva came from 5-1 down in the opening set to beat Wimbledon champion Petra Kvitova 7-6 6-0 in the semifinals of the WTA  tournament in Tokyo.   \n",
       "3                                                         Macedonia is a small landlocked country bordering Albania, Bulgaria, Greece, Kosovo and Serbia with aspirations of joining the European Union.  \n",
       "4  Manchester City banned journalists from asking manager Roberto Mancini about striker Carlos Tevez  Friday, as the fallout from the Argentine's apparent refusal to come on as a substitute continued.  "
      ]
     },
     "execution_count": 4,
     "metadata": {},
     "output_type": "execute_result"
    }
   ],
   "source": [
    "df.head()"
   ]
  },
  {
   "cell_type": "code",
   "execution_count": 5,
   "metadata": {},
   "outputs": [
    {
     "name": "stdout",
     "output_type": "stream",
     "text": [
      "315\n",
      "35\n"
     ]
    }
   ],
   "source": [
    "# Reduce the size of the data\n",
    "# This is not good practice and only serves to make the model worse\n",
    "# however, LLMs take a long time to train and this is the only way it could\n",
    "# complete before my computer melted.\n",
    "sampled_df = df.sample(frac=0.1, random_state=37)\n",
    "\n",
    "# Split the data into train-test sets (90-10 split)\n",
    "train_df, test_df = train_test_split(sampled_df, test_size=0.1, random_state=37)\n",
    "\n",
    "print(len(train_df))\n",
    "print(len(test_df))"
   ]
  },
  {
   "cell_type": "code",
   "execution_count": 6,
   "metadata": {},
   "outputs": [],
   "source": [
    "# Tokenizer? I hardly know 'er!\n",
    "tokenizer = BartTokenizer.from_pretrained('facebook/bart-large-cnn')\n"
   ]
  },
  {
   "cell_type": "code",
   "execution_count": 7,
   "metadata": {},
   "outputs": [],
   "source": [
    "train_dataset = Dataset.from_pandas(train_df)\n",
    "test_dataset = Dataset.from_pandas(test_df)"
   ]
  },
  {
   "cell_type": "code",
   "execution_count": 8,
   "metadata": {},
   "outputs": [],
   "source": [
    "# Tokenize the input data\n",
    "def tokenize_data(example):\n",
    "    # Tokenize the input document\n",
    "    inputs = tokenizer(example['content'], padding='max_length', truncation=True, max_length=512)\n",
    "    # Tokenize the target summary\n",
    "    targets = tokenizer(example['short_description'], padding='max_length', truncation=True, max_length=128)\n",
    "    \n",
    "    # Add special tokens to separate input and target\n",
    "    inputs['labels'] = targets['input_ids']\n",
    "    \n",
    "    return inputs"
   ]
  },
  {
   "cell_type": "code",
   "execution_count": 9,
   "metadata": {},
   "outputs": [
    {
     "data": {
      "application/vnd.jupyter.widget-view+json": {
       "model_id": "ee16c7dbc6814e56a27ff209f51ccc7f",
       "version_major": 2,
       "version_minor": 0
      },
      "text/plain": [
       "Map:   0%|          | 0/315 [00:00<?, ? examples/s]"
      ]
     },
     "metadata": {},
     "output_type": "display_data"
    },
    {
     "data": {
      "application/vnd.jupyter.widget-view+json": {
       "model_id": "0c391618d4914a3ab477f437c922d7ab",
       "version_major": 2,
       "version_minor": 0
      },
      "text/plain": [
       "Map:   0%|          | 0/35 [00:00<?, ? examples/s]"
      ]
     },
     "metadata": {},
     "output_type": "display_data"
    },
    {
     "name": "stdout",
     "output_type": "stream",
     "text": [
      "{'content': 'Police to investigate \\'racist\\' referee in Chelsea caseBy Updated 1811 GMT (0211 HKT) October 30, 2012 London\\'s Metropolitan Police force have launched an investigation into the alleged comments made by referee Mark Clattenburg. Story highlightsPolice will investigate allegations of racial abuse by Premier League referee Mark ClattenburgClattenburg was in charge of Chelsea\\'s 3-2 home defeat by Manchester United on SundaySociety of Black Lawyers referred complaint to the policeSeparate Football Association inquiry will run concurrentlyThe racism row involving a Premier League referee could dominate English football headlines for some months, after police announced on Tuesday that they had launched an investigation into the incident. Mark Clattenburg, who took charge of Chelsea\\'s controversial 3-2 home defeat by Manchester United on Sunday, is alleged to have made \"inappropriate\" comments to two Chelsea players, one of which is claimed to have had a racial nature. The footballers in question are midfielders John Obi Mikel of Nigeria and Juan Mata of Spain. If the police inquiry escalates to a formal charge for Clattenburg, there is unlikely to be any ruling until well into next year. It took nine months for John Terry to be cleared by a criminal court in London after the Chelsea captain was accused of racially abusing Queens Park Rangers defender Anton Ferdinand in October 2011. The English Football Association, which launched its own investigation into the Clattenburg affair on Monday, subsequently found Terry guilty of racial abuse, banning the 31-year-old for four matches as a result. JUST WATCHEDMourinho: John Terry is not a racistReplayMore Videos ...MUST WATCHMourinho: John Terry is not a racist 01:32 Photos: Crime and Punishment in sport Photos: Crime and Punishment in sportWhere it all began – It is now nearly a year since Chelsea lost to QPR 1-0 in an English Premier League game at Loftus Road. During the game it was alleged QPR defender Anton Ferdinand swore at John Terry and made reference to the Chelsea captain\\'s reported affair with the ex-partner of former team-mate Wayne Bridge. Terry is then said to have described Ferdinand as a \"f***ing black c***\".Hide Caption 1 of 10 Photos: Crime and Punishment in sportBeyond reasonable doubt – In July, Terry was cleared in a London court, where the criminal burden of proof is \"beyond all reasonable doubt\". But the English Football Association then investigated the case, and using the test of  \"on the balance of probabilities\", came to the conclusion that Terry\\'s defence against claims he racially abused Ferdinand was \"improbable, implausible, contrived\".Hide Caption 2 of 10 Photos: Crime and Punishment in sportHandshake snub – Back in September, Ferdinand had declined Terry\\'s offer of a handshake when QPR met Chelsea at Loftus Road as the feud between the two players rumbled on.Hide Caption 3 of 10 Photos: Crime and Punishment in sport\\'Twatgate\\' – After the FA delivered the independent commission\\'s report on the Terry case, the Chelsea captain\\'s teammate Ashley Cole tweeted:  \"Hahahahaa, well done #fa I lied did I, #BUNCHOFT***S\". The Chelsea and England left-back quickly issued a \"unreserved apology\" for his tweet through his solicitor.Hide Caption 4 of 10 Photos: Crime and Punishment in sportSuarez punished – In 2011 the FA had to deal with another racism case, this time handing Liverpool striker Luis Suarez an eight-match ban and a $63,000 fine after finding the Uruguayan guilty of racially abusing Manchester United defender Patrice Evra.Hide Caption 5 of 10 Photos: Crime and Punishment in sportThe end of the affair – Suarez and Evra failed to shake hands before the start of an English Premier League game at Old Trafford last season after the Uruguayan had served his ban. However, when United beat Liverpool 2-1 at Anfield in September, the pair did shake hands.Hide Caption 6 of 10 Photos: Crime and Punishment in sportFine line – Questions have been raised about UEFA\\'s sanctioning policy. Denmark striker Nicklas Bendtner was fined $126,000 and banned from playing in his side\\'s next competitive game for flashing his sponsored waistband promoting a bookmaker as he celebrated a goal against Portugal in Euro 2012.  But that fine eclipsed the $52,000 fine that UEFA handed to the Bulgarian Football Union for its fans\\' racist abuse of England players during a Euro 2012 qualifier in Sofia in September 2011. Hide Caption 7 of 10 Photos: Crime and Punishment in sportBlattergate – In November 2011, FIFA president Sepp Blatter told CNN that football did not have a problem with racism on the field and any incidents should be settled by a handshake.Hide Caption 8 of 10 Photos: Crime and Punishment in sportGuilty as charged – The FA\\'s Independent Regulatory Commission heard 473 cases between December 2010 and December 2011, but only two of them ended in \"not guilty\" verdicts.Hide Caption 9 of 10 Photos: Crime and Punishment in sportCall to action – Stoke City boss Tony Pulis wants the Football Association to punish Liverpool\\'s Luis Suarez for diving. \"It\\'s an embarrassment,\" said the Stoke manager after a 0-0 draw at Anfield. \"The FA should be looking at this.\"Hide Caption 10 of 10 Photos: Black football pioneers in England Photos: Black football pioneers in EnglandDestiny denied – In the 1920s, Jack Leslie was denied the chance to represent England, the country of his birth, due to his Jamaican parentage. A forward at Plymouth Argyle, he was the only black player in England at the time.Hide Caption 1 of 11 Photos: Black football pioneers in EnglandLeading the way – Bermuda-born Clyde Best, pictured here in 1972, became the first black player to establish himself in the English top flight with London club West Ham United.Hide Caption 2 of 11 Photos: Black football pioneers in EnglandEsteemed company – Best is seen here alongside West Ham legend Bobby Moore (center right) in the 1970s. Moore captained his country to World Cup glory when the competition was held in England in 1966.Hide Caption 3 of 11 Photos: Black football pioneers in EnglandThe Real deal – Laurie Cunningham achieved fame as one of the \"Three Degrees\" at West Bromwich Albion, being part of a trio of black players also including Brendon Batson and Cyrille Regis. Cunningham became the first black player to represent England at any level when he played for the under-21 team in a friendly against Scotland in 1977. His talent earned him a big-money move to Spanish giants Real Madrid in 1979.Hide Caption 4 of 11 Photos: Black football pioneers in EnglandInternational recognition – Viv Anderson won the English First Division and played a part in Nottingham Forest\\'s two European Cup triumphs durng a glittering playing career. He is arguably most famous for becoming the first black player to represent the senior England team against Czechoslovakia at Wembley in 1978.Hide Caption 5 of 11 Photos: Black football pioneers in EnglandUp for the cup – Anderson was one of just two black players in England\\'s 1986 World Cup squad, alongside Jamaica-born winger John Barnes. In contrast, the 23-man England squad which traveled to the 2010 World Cup in South Africa contained eight black players.Hide Caption 6 of 11 Photos: Black football pioneers in EnglandGreenwood\\'s guidance – Cunningham and Anderson were brought into the England fold by Best\\'s former West Ham boss Ron Greenwood, who managed the national team between 1977 and 1982. Cunningham tragically died in a car crash in Madrid at the age of 33, while Anderson ended his playing career in 1995. Hide Caption 7 of 11 Photos: Black football pioneers in EnglandPowerful striker – After spending seven years at West Bromwich Albion, England international Regis played for several other clubs in the midlands area of England. In 1984, he joined Coventry City before spending two years with Aston Villa. The powerful striker had a season with Wolverhampton Wanderers and eventually retired in 1996.Hide Caption 8 of 11 Photos: Black football pioneers in EnglandCultured defender – After spells at Arsenal and Cambridge United, Batson spent the majority of his career at West Brom. The Grenada-born defender was there between 1978 and 1982 before injury cut short his career. He later became an administrator with England\\'s Professional Footballers\\' Association.Hide Caption 9 of 11 Photos: Black football pioneers in EnglandInspirational Ince – Midfielder Paul Ince built on the legacy of players like Cunningham and Anderson in 1993, when he became the first black player to captain England in a 2-0 friendly defeat against the U.S. In a career where he played for Manchester United, Liverpool and Inter Milan, he collected two league titles and a European Cup Winners\\' Cup medal.Hide Caption 10 of 11 Photos: Black football pioneers in EnglandThe first – The battle for black players to gain international recognition in England may have been a long one, but further north in Scotland a black footballer was paving the way over 100 years ago. Andrew Watson became the first black international footballer when he made his debut for Scotland in 1881, captaining his country to a thumping 6-1 victory against England.Hide Caption 11 of 11JUST WATCHEDPFA chairman: Serbia should be banned ReplayMore Videos ...MUST WATCHPFA chairman: Serbia should be banned  01:15\"An investigation has been launched into alleged comments made during a football match between Chelsea FC and Manchester United FC at Stamford Bridge on 28 October 2012,\" read the London police force statement. \"This follows on from a complaint received by the Metropolitan Police Service on 29 October. \"Officers ... are in liaison with Chelsea and the Football Association. At this time, the MPS has not received any complaint from either Chelsea or the Football Association.\" Peter Herbert, a leading human rights barrister who chairs the Society of Black Lawyers and who has recently staged talks over a black footballers\\' association in light of recent racism scandals in the English game, says he made the complaint to the police. \"What we don\\'t want is for it to be swept away under the carpet,\" he told British broadcaster Sky Sports. \"It must be subject to a full and proper investigation. It is to lend some seriousness and some weight behind what is happening in football.\" The FA\\'s decision to run its own inquiry at the same time as the police investigation has been welcomed by Gordon Taylor, the chief executive of the Professional Footballers\\' Association, who is keen for the incident to be resolved far quicker than the Terry affair. Meanwhile, Clattenburg, who refereed the Olympic Games football final in August and who has welcomed the FA inquiry, has been stood down from the elite panel of referees set to officiate Premier League games this weekend. The 37-year-old has already filed what is known as an \"extraordinary incident report,\" which is believed to deal with an alleged confrontation that took place in the referees\\' room after the final whistle. The UK Press Association reported that Mikel accused Clattenburg of abusing him during the post-match conversation, which was observed by Chelsea manager Roberto Di Matteo, assistant manager Eddie Newton and chief executive Ron Gourlay.On Tuesday, newspaper reports suggested that neither Mikel nor Mata heard any abusive comments but were informed of them later by their teammates. Clattenburg and his three assistants were all wearing microphones and earphones, but FIFA rules do not permit the recording of such conversations as there is no provision for this in the laws of the game. Powered by Livefyre', 'short_description': 'The racism row involving a Premier League referee could last for some months after police launched an investigation into the incident. ', '__index_level_0__': 3269, 'input_ids': [0, 9497, 7, 4830, 128, 35969, 108, 9585, 11, 3098, 403, 2765, 17234, 504, 1225, 5050, 36, 4197, 1225, 19315, 565, 43, 779, 389, 6, 1125, 928, 18, 10718, 522, 1370, 33, 1660, 41, 803, 88, 5, 1697, 1450, 156, 30, 9585, 1190, 2893, 2611, 20533, 4, 3718, 5586, 9497, 40, 4830, 1857, 9, 6689, 2134, 30, 2275, 815, 9585, 1190, 2893, 2611, 20533, 11428, 2611, 20533, 21, 11, 1427, 9, 3098, 18, 155, 12, 176, 184, 3002, 30, 2361, 315, 15, 395, 29971, 25717, 9, 1378, 17090, 4997, 3674, 7, 5, 249, 37729, 29585, 3910, 1544, 6422, 40, 422, 37408, 133, 8222, 3236, 3329, 10, 2275, 815, 9585, 115, 11781, 2370, 1037, 6337, 13, 103, 377, 6, 71, 249, 585, 15, 294, 14, 51, 56, 1660, 41, 803, 88, 5, 1160, 4, 1190, 2893, 2611, 20533, 6, 54, 362, 1427, 9, 3098, 18, 4456, 155, 12, 176, 184, 3002, 30, 2361, 315, 15, 395, 6, 16, 1697, 7, 33, 156, 22, 179, 23360, 113, 1450, 7, 80, 3098, 472, 6, 65, 9, 61, 16, 1695, 7, 33, 56, 10, 6689, 2574, 4, 20, 1037, 268, 11, 864, 32, 9979, 268, 610, 27954, 1483, 462, 9, 2000, 8, 7056, 27256, 9, 2809, 4, 318, 5, 249, 6422, 27196, 1626, 7, 10, 4828, 1427, 13, 2893, 2611, 20533, 6, 89, 16, 3752, 7, 28, 143, 2255, 454, 157, 88, 220, 76, 4, 85, 362, 1117, 377, 13, 610, 6840, 7, 28, 6049, 30, 10, 1837, 461, 11, 928, 71, 5, 3098, 3449, 21, 1238, 9, 20915, 16754, 12446, 861, 5706, 5142, 12929, 28855, 11, 779, 1466, 4, 20, 2370, 3910, 1544, 6, 61, 1660, 63, 308, 803, 88, 5, 2893, 2611, 20533, 7226, 15, 302, 6, 8960, 303, 6840, 2181, 9, 6689, 2134, 6, 13241, 5, 1105, 12, 180, 12, 279, 13, 237, 2856, 25, 10, 898, 4, 34157, 49336, 448, 2126, 13265, 35, 610, 6840, 16, 45, 10, 7159, 9064, 5785, 9690, 18577, 1666, 448, 11120, 10187, 448, 2126, 13265, 35, 610, 6840, 16, 45, 10, 7159, 9465, 35, 2881, 10878, 35, 6624, 8, 14687, 16812, 11, 2414, 10878, 35, 6624, 8, 14687, 16812, 11, 2414, 13841, 24, 70, 880, 126, 85, 16, 122, 823, 10, 76, 187, 3098, 685, 7, 1209, 4454, 112, 12, 288, 11, 41, 2370, 2275, 815, 177, 23, 27103, 687, 1214, 4, 1590, 5, 177, 24, 21, 1697, 1209, 4454, 5142, 12929, 28855, 34576, 23, 610, 6840, 8, 156, 5135, 7, 5, 3098, 3449, 18, 431, 7226, 19, 5, 1931, 12, 7755, 1396, 9, 320, 165, 12, 10008, 6098, 4679, 4, 6840, 16, 172, 26, 7, 33, 1602, 28855, 25, 10, 22, 506, 15057, 154, 909, 740, 15057, 845, 46455, 19754, 112, 9, 158, 10878, 35, 6624, 8, 14687, 16812, 11, 2414, 36971, 5701, 2980, 126, 96, 550, 6, 6840, 21, 6049, 11, 10, 928, 461, 6, 147, 5, 1837, 6976, 9, 6461, 16, 22, 1610, 32565, 70, 5701, 2980, 845, 125, 5, 2370, 3910, 1544, 172, 6807, 5, 403, 6, 8, 634, 5, 1296, 9, 1437, 22, 261, 5, 2394, 9, 43471, 1297, 376, 7, 2], 'attention_mask': [1, 1, 1, 1, 1, 1, 1, 1, 1, 1, 1, 1, 1, 1, 1, 1, 1, 1, 1, 1, 1, 1, 1, 1, 1, 1, 1, 1, 1, 1, 1, 1, 1, 1, 1, 1, 1, 1, 1, 1, 1, 1, 1, 1, 1, 1, 1, 1, 1, 1, 1, 1, 1, 1, 1, 1, 1, 1, 1, 1, 1, 1, 1, 1, 1, 1, 1, 1, 1, 1, 1, 1, 1, 1, 1, 1, 1, 1, 1, 1, 1, 1, 1, 1, 1, 1, 1, 1, 1, 1, 1, 1, 1, 1, 1, 1, 1, 1, 1, 1, 1, 1, 1, 1, 1, 1, 1, 1, 1, 1, 1, 1, 1, 1, 1, 1, 1, 1, 1, 1, 1, 1, 1, 1, 1, 1, 1, 1, 1, 1, 1, 1, 1, 1, 1, 1, 1, 1, 1, 1, 1, 1, 1, 1, 1, 1, 1, 1, 1, 1, 1, 1, 1, 1, 1, 1, 1, 1, 1, 1, 1, 1, 1, 1, 1, 1, 1, 1, 1, 1, 1, 1, 1, 1, 1, 1, 1, 1, 1, 1, 1, 1, 1, 1, 1, 1, 1, 1, 1, 1, 1, 1, 1, 1, 1, 1, 1, 1, 1, 1, 1, 1, 1, 1, 1, 1, 1, 1, 1, 1, 1, 1, 1, 1, 1, 1, 1, 1, 1, 1, 1, 1, 1, 1, 1, 1, 1, 1, 1, 1, 1, 1, 1, 1, 1, 1, 1, 1, 1, 1, 1, 1, 1, 1, 1, 1, 1, 1, 1, 1, 1, 1, 1, 1, 1, 1, 1, 1, 1, 1, 1, 1, 1, 1, 1, 1, 1, 1, 1, 1, 1, 1, 1, 1, 1, 1, 1, 1, 1, 1, 1, 1, 1, 1, 1, 1, 1, 1, 1, 1, 1, 1, 1, 1, 1, 1, 1, 1, 1, 1, 1, 1, 1, 1, 1, 1, 1, 1, 1, 1, 1, 1, 1, 1, 1, 1, 1, 1, 1, 1, 1, 1, 1, 1, 1, 1, 1, 1, 1, 1, 1, 1, 1, 1, 1, 1, 1, 1, 1, 1, 1, 1, 1, 1, 1, 1, 1, 1, 1, 1, 1, 1, 1, 1, 1, 1, 1, 1, 1, 1, 1, 1, 1, 1, 1, 1, 1, 1, 1, 1, 1, 1, 1, 1, 1, 1, 1, 1, 1, 1, 1, 1, 1, 1, 1, 1, 1, 1, 1, 1, 1, 1, 1, 1, 1, 1, 1, 1, 1, 1, 1, 1, 1, 1, 1, 1, 1, 1, 1, 1, 1, 1, 1, 1, 1, 1, 1, 1, 1, 1, 1, 1, 1, 1, 1, 1, 1, 1, 1, 1, 1, 1, 1, 1, 1, 1, 1, 1, 1, 1, 1, 1, 1, 1, 1, 1, 1, 1, 1, 1, 1, 1, 1, 1, 1, 1, 1, 1, 1, 1, 1, 1, 1, 1, 1, 1, 1, 1, 1, 1, 1, 1, 1, 1, 1, 1, 1, 1, 1, 1, 1, 1, 1, 1, 1, 1, 1, 1, 1, 1, 1, 1, 1, 1, 1, 1, 1, 1, 1, 1, 1, 1, 1, 1, 1, 1, 1, 1, 1, 1, 1, 1], 'labels': [0, 133, 8222, 3236, 3329, 10, 2275, 815, 9585, 115, 94, 13, 103, 377, 71, 249, 1660, 41, 803, 88, 5, 1160, 4, 1437, 2, 1, 1, 1, 1, 1, 1, 1, 1, 1, 1, 1, 1, 1, 1, 1, 1, 1, 1, 1, 1, 1, 1, 1, 1, 1, 1, 1, 1, 1, 1, 1, 1, 1, 1, 1, 1, 1, 1, 1, 1, 1, 1, 1, 1, 1, 1, 1, 1, 1, 1, 1, 1, 1, 1, 1, 1, 1, 1, 1, 1, 1, 1, 1, 1, 1, 1, 1, 1, 1, 1, 1, 1, 1, 1, 1, 1, 1, 1, 1, 1, 1, 1, 1, 1, 1, 1, 1, 1, 1, 1, 1, 1, 1, 1, 1, 1, 1, 1, 1, 1, 1, 1, 1]}\n"
     ]
    }
   ],
   "source": [
    "\n",
    "# Apply tokenization to the entire dataset\n",
    "train_dataset = train_dataset.map(tokenize_data, batched=True)\n",
    "test_dataset = test_dataset.map(tokenize_data, batched=True)\n",
    "\n",
    "# Print the first example to check tokenization\n",
    "print(train_dataset[0])\n"
   ]
  },
  {
   "cell_type": "code",
   "execution_count": 10,
   "metadata": {},
   "outputs": [
    {
     "name": "stderr",
     "output_type": "stream",
     "text": [
      "c:\\Users\\Preston Waters\\AppData\\Local\\Programs\\Python\\Python311\\Lib\\site-packages\\transformers\\optimization.py:411: FutureWarning: This implementation of AdamW is deprecated and will be removed in a future version. Use the PyTorch implementation torch.optim.AdamW instead, or set `no_deprecation_warning=True` to disable this warning\n",
      "  warnings.warn(\n"
     ]
    },
    {
     "data": {
      "application/vnd.jupyter.widget-view+json": {
       "model_id": "dca79b9c8d234ca0bef0256c6726a56c",
       "version_major": 2,
       "version_minor": 0
      },
      "text/plain": [
       "  0%|          | 0/158 [00:00<?, ?it/s]"
      ]
     },
     "metadata": {},
     "output_type": "display_data"
    },
    {
     "name": "stdout",
     "output_type": "stream",
     "text": [
      "{'train_runtime': 7325.7753, 'train_samples_per_second': 0.086, 'train_steps_per_second': 0.022, 'train_loss': 1.984714363194719, 'epoch': 2.0}\n"
     ]
    },
    {
     "data": {
      "text/plain": [
       "TrainOutput(global_step=158, training_loss=1.984714363194719, metrics={'train_runtime': 7325.7753, 'train_samples_per_second': 0.086, 'train_steps_per_second': 0.022, 'train_loss': 1.984714363194719, 'epoch': 2.0})"
      ]
     },
     "execution_count": 10,
     "metadata": {},
     "output_type": "execute_result"
    }
   ],
   "source": [
    "# Fine-tune model\n",
    "model = BartForConditionalGeneration.from_pretrained('facebook/bart-large-cnn')\n",
    "# Notes for how to make the model faster (but worse)\n",
    "training_args = Seq2SeqTrainingArguments(\n",
    "    per_device_train_batch_size=4,  # Increase batch size\n",
    "    per_device_eval_batch_size=4,   # Increase eval batch size\n",
    "    output_dir='./results',\n",
    "    logging_dir='./logs',\n",
    "    num_train_epochs=2,             # Decrease number of epochs\n",
    "    logging_steps=1000,             # Decrease logging frequency\n",
    "    evaluation_strategy='steps',\n",
    "    eval_steps=2000,                # Decrease evaluation frequency\n",
    "    save_steps=2000,                # Decrease saving frequency\n",
    "    warmup_steps=200,               # Decrease warmup steps\n",
    "    weight_decay=0.01,              # Keep this value if you want\n",
    "    predict_with_generate=True\n",
    ")\n",
    "trainer = Seq2SeqTrainer(\n",
    "    model=model,\n",
    "    args=training_args,\n",
    "    train_dataset=train_dataset,\n",
    "    eval_dataset=test_dataset,\n",
    ")\n",
    "trainer.train()\n",
    "\n"
   ]
  },
  {
   "cell_type": "code",
   "execution_count": 11,
   "metadata": {},
   "outputs": [
    {
     "data": {
      "application/vnd.jupyter.widget-view+json": {
       "model_id": "3628f10dfe6043059a1ff47e0bdddf52",
       "version_major": 2,
       "version_minor": 0
      },
      "text/plain": [
       "  0%|          | 0/9 [00:00<?, ?it/s]"
      ]
     },
     "metadata": {},
     "output_type": "display_data"
    },
    {
     "name": "stdout",
     "output_type": "stream",
     "text": [
      "{'eval_loss': 0.15529805421829224, 'eval_runtime': 145.2126, 'eval_samples_per_second': 0.241, 'eval_steps_per_second': 0.062, 'epoch': 2.0}\n"
     ]
    }
   ],
   "source": [
    "# Evaluate model\n",
    "results = trainer.evaluate()\n",
    "print(results)"
   ]
  },
  {
   "cell_type": "code",
   "execution_count": null,
   "metadata": {},
   "outputs": [],
   "source": [
    "from nltk.translate.bleu_score import SmoothingFunction, corpus_bleu, sentence_bleu\n",
    "\n",
    "def bleu(ref, gen):\n",
    "    ''' \n",
    "    calculate pair wise bleu score. uses nltk implementation\n",
    "    Args:\n",
    "        references : a list of reference sentences \n",
    "        candidates : a list of candidate(generated) sentences\n",
    "    Returns:\n",
    "        bleu score(float)\n",
    "    '''\n",
    "    ref_bleu = []\n",
    "    gen_bleu = []\n",
    "    for l in gen:\n",
    "        gen_bleu.append(l.split())\n",
    "    for i,l in enumerate(ref):\n",
    "        ref_bleu.append([l.split()])\n",
    "    cc = SmoothingFunction()\n",
    "    score_bleu = corpus_bleu(ref_bleu, gen_bleu, weights=(0, 1, 0, 0), smoothing_function=cc.method4)\n",
    "    return score_bleu"
   ]
  },
  {
   "cell_type": "code",
   "execution_count": null,
   "metadata": {},
   "outputs": [],
   "source": [
    "\n",
    "#rouge scores for a reference/generated sentence pair\n",
    "#source google seq2seq source code.\n",
    "\n",
    "import itertools\n",
    "\n",
    "#supporting function\n",
    "def _split_into_words(sentences):\n",
    "  \"\"\"Splits multiple sentences into words and flattens the result\"\"\"\n",
    "  return list(itertools.chain(*[_.split(\" \") for _ in sentences]))\n",
    "\n",
    "#supporting function\n",
    "def _get_word_ngrams(n, sentences):\n",
    "  \"\"\"Calculates word n-grams for multiple sentences.\n",
    "  \"\"\"\n",
    "  assert len(sentences) > 0\n",
    "  assert n > 0\n",
    "\n",
    "  words = _split_into_words(sentences)\n",
    "  return _get_ngrams(n, words)\n",
    "\n",
    "#supporting function\n",
    "def _get_ngrams(n, text):\n",
    "  \"\"\"Calcualtes n-grams.\n",
    "  Args:\n",
    "    n: which n-grams to calculate\n",
    "    text: An array of tokens\n",
    "  Returns:\n",
    "    A set of n-grams\n",
    "  \"\"\"\n",
    "  ngram_set = set()\n",
    "  text_length = len(text)\n",
    "  max_index_ngram_start = text_length - n\n",
    "  for i in range(max_index_ngram_start + 1):\n",
    "    ngram_set.add(tuple(text[i:i + n]))\n",
    "  return ngram_set\n",
    "\n",
    "def rouge_n(reference_sentences, evaluated_sentences, n=2):\n",
    "  \"\"\"\n",
    "  Computes ROUGE-N of two text collections of sentences.\n",
    "  Source: http://research.microsoft.com/en-us/um/people/cyl/download/\n",
    "  papers/rouge-working-note-v1.3.1.pdf\n",
    "  Args:\n",
    "    evaluated_sentences: The sentences that have been picked by the summarizer\n",
    "    reference_sentences: The sentences from the referene set\n",
    "    n: Size of ngram.  Defaults to 2.\n",
    "  Returns:\n",
    "    recall rouge score(float)\n",
    "  Raises:\n",
    "    ValueError: raises exception if a param has len <= 0\n",
    "  \"\"\"\n",
    "  if len(evaluated_sentences) <= 0 or len(reference_sentences) <= 0:\n",
    "    raise ValueError(\"Collections must contain at least 1 sentence.\")\n",
    "\n",
    "  evaluated_ngrams = _get_word_ngrams(n, evaluated_sentences)\n",
    "  reference_ngrams = _get_word_ngrams(n, reference_sentences)\n",
    "  reference_count = len(reference_ngrams)\n",
    "  evaluated_count = len(evaluated_ngrams)\n",
    "\n",
    "  # Gets the overlapping ngrams between evaluated and reference\n",
    "  overlapping_ngrams = evaluated_ngrams.intersection(reference_ngrams)\n",
    "  overlapping_count = len(overlapping_ngrams)\n",
    "\n",
    "  # Handle edge case. This isn't mathematically correct, but it's good enough\n",
    "  if evaluated_count == 0:\n",
    "    precision = 0.0\n",
    "  else:\n",
    "    precision = overlapping_count / evaluated_count\n",
    "\n",
    "  if reference_count == 0:\n",
    "    recall = 0.0\n",
    "  else:\n",
    "    recall = overlapping_count / reference_count\n",
    "\n",
    "  f1_score = 2.0 * ((precision * recall) / (precision + recall + 1e-8))\n",
    "\n",
    "  #just returning recall count in rouge, useful for our purpose\n",
    "  return recall"
   ]
  },
  {
   "cell_type": "code",
   "execution_count": null,
   "metadata": {},
   "outputs": [],
   "source": [
    "# generate 5 sentences\n",
    "#compare to 5 real sentences\n",
    "\n",
    "realSummaries = []\n",
    "\n",
    "generatedSummaries = []\n",
    "\n",
    "\n",
    "for i in range(5):\n",
    "\n",
    "    # Add summary to list\n",
    "    realSummaries.append(df['short_description'][i])\n",
    "\n",
    "    # Tokenize input text\n",
    "    input_ids = tokenizer(df['content'][i], return_tensors=\"pt\").input_ids\n",
    "\n",
    "    # Generate output\n",
    "    output_ids = model.generate(input_ids)\n",
    "\n",
    "    # Decode output\n",
    "    output_text = tokenizer.decode(output_ids[0], skip_special_tokens=True)\n",
    "\n",
    "    # Add generated summary to list\n",
    "    generatedSummaries.append(output_text)\n"
   ]
  }
 ],
 "metadata": {
  "kernelspec": {
   "display_name": "Python 3",
   "language": "python",
   "name": "python3"
  },
  "language_info": {
   "codemirror_mode": {
    "name": "ipython",
    "version": 3
   },
   "file_extension": ".py",
   "mimetype": "text/x-python",
   "name": "python",
   "nbconvert_exporter": "python",
   "pygments_lexer": "ipython3",
   "version": "3.11.4"
  }
 },
 "nbformat": 4,
 "nbformat_minor": 2
}
